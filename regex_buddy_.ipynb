{
  "metadata": {
    "kernelspec": {
      "name": "python",
      "display_name": "Python (Pyodide)",
      "language": "python"
    },
    "language_info": {
      "codemirror_mode": {
        "name": "python",
        "version": 3
      },
      "file_extension": ".py",
      "mimetype": "text/x-python",
      "name": "python",
      "nbconvert_exporter": "python",
      "pygments_lexer": "ipython3",
      "version": "3.8"
    }
  },
  "nbformat_minor": 4,
  "nbformat": 4,
  "cells": [
    {
      "cell_type": "code",
      "source": "import re\n\nlog_message = \"[6/18/2007 2:36 PM TYPE=Information USER=NT AUTHORITY\\SYSTEM COMP=DBSERVER SORC=MSSQLSERVER CATG=Logon EVID=17055 MESG=18453 : Login succeeded for user ''NT AUTHORITY\\SYSTEM''.]\"",
      "metadata": {
        "trusted": true
      },
      "outputs": [],
      "execution_count": 4
    },
    {
      "cell_type": "code",
      "source": "log_pattern = re.compile(r'''\n    \\[\n    (?P<timestamp>[\\d/: AMPM]+)\\s+\n    TYPE=(?P<type>\\w+)\\s+\n    USER=(?P<user>(?P<nt>[\\w]+)\\s+(?P<authority_system>[\\w\\\\]+))\\s+\n    COMP=(?P<comp>\\w+)\\s+\n    SORC=(?P<sorc>\\w+)\\s+\n    CATG=(?P<catg>\\w+)\\s+\n    EVID=(?P<evid>\\d+)\\s+\n    MESG=(?P<mesg>.+?)\n    \\]\n''', re.VERBOSE)",
      "metadata": {
        "trusted": true
      },
      "outputs": [],
      "execution_count": 5
    },
    {
      "cell_type": "code",
      "source": "match = log_pattern.search(log_message)",
      "metadata": {
        "trusted": true
      },
      "outputs": [],
      "execution_count": 6
    },
    {
      "cell_type": "code",
      "source": "if match:\n    timestamp = match.group('timestamp')\n    log_type = match.group('type')\n    user = match.group('user')\n    comp = match.group('comp')\n    sorc = match.group('sorc')\n    catg = match.group('catg')\n    evid = match.group('evid')\n    mesg = match.group('mesg')\n\n    print(f\"Timestamp: {timestamp}\")\n    print(f\"Type: {log_type}\")\n    print(f\"User: {user}\")\n    print(f\"Comp: {comp}\")\n    print(f\"Sorc: {sorc}\")\n    print(f\"Catg: {catg}\")\n    print(f\"EVID: {evid}\")\n    print(f\"Mesg: {mesg}\")\nelse:\n    print(\"No match found.\")",
      "metadata": {
        "trusted": true
      },
      "outputs": [
        {
          "name": "stdout",
          "text": "Timestamp: 6/18/2007 2:36 PM\nType: Information\nUser: NT AUTHORITY\\SYSTEM\nComp: DBSERVER\nSorc: MSSQLSERVER\nCatg: Logon\nEVID: 17055\nMesg: 18453 : Login succeeded for user ''NT AUTHORITY\\SYSTEM''.\n",
          "output_type": "stream"
        }
      ],
      "execution_count": 7
    },
    {
      "cell_type": "code",
      "source": "",
      "metadata": {
        "trusted": true
      },
      "outputs": [],
      "execution_count": null
    }
  ]
}